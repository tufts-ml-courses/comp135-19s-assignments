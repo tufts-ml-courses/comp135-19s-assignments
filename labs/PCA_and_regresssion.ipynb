{
 "cells": [
  {
   "cell_type": "markdown",
   "metadata": {},
   "source": [
    "# Introduction to PCA"
   ]
  },
  {
   "cell_type": "markdown",
   "metadata": {},
   "source": [
    "Part 1: PCA in pure NumPy\n",
    "\n",
    "Part 2: Adapted from http://www.science.smith.edu/~jcrouser/SDS293/labs/"
   ]
  },
  {
   "cell_type": "markdown",
   "metadata": {},
   "source": [
    "## Setup"
   ]
  },
  {
   "cell_type": "code",
   "execution_count": 1,
   "metadata": {},
   "outputs": [],
   "source": [
    "# imports and setup\n",
    "%matplotlib inline\n",
    "\n",
    "import numpy as np\n",
    "import pandas as pd\n",
    "\n",
    "import seaborn as sns\n",
    "import matplotlib.pyplot as plt\n",
    "\n",
    "pd.set_option('precision', 4) # number precision for pandas\n",
    "pd.set_option('display.max_rows', 20)\n",
    "pd.set_option('display.max_columns', 12)\n",
    "pd.set_option('display.float_format', '{:20,.5f}'.format) # get rid of scientific notation\n",
    "\n",
    "plt.style.use('seaborn') # pretty matplotlib plots"
   ]
  },
  {
   "cell_type": "markdown",
   "metadata": {},
   "source": [
    "# PCA in Pure Numpy"
   ]
  },
  {
   "cell_type": "markdown",
   "metadata": {},
   "source": [
    "### Create simple toy dataset in 2D"
   ]
  },
  {
   "cell_type": "code",
   "execution_count": 2,
   "metadata": {},
   "outputs": [],
   "source": [
    "x = 0.5 * np.random.randn(100)\n",
    "y = 1.0 * x + 0.2 * np.random.randn(100)"
   ]
  },
  {
   "cell_type": "code",
   "execution_count": 3,
   "metadata": {},
   "outputs": [
    {
     "data": {
      "text/plain": [
       "(-2, 2)"
      ]
     },
     "execution_count": 3,
     "metadata": {},
     "output_type": "execute_result"
    },
    {
     "data": {
      "image/png": "[encoded data removed]",
      "text/plain": [
       "<Figure size 432x288 with 1 Axes>"
      ]
     },
     "metadata": {
      "needs_background": "light"
     },
     "output_type": "display_data"
    }
   ],
   "source": [
    "plt.plot(x,y, 'k.');\n",
    "plt.xlim([-2, 2]); \n",
    "plt.ylim([-2, 2])"
   ]
  },
  {
   "cell_type": "code",
   "execution_count": 4,
   "metadata": {},
   "outputs": [
    {
     "name": "stdout",
     "output_type": "stream",
     "text": [
      "100\n"
     ]
    }
   ],
   "source": [
    "x_NF = np.hstack([x[:,np.newaxis], y[:,np.newaxis]])\n",
    "N = x_NF.shape[0]\n",
    "\n",
    "print(N)"
   ]
  },
  {
   "cell_type": "markdown",
   "metadata": {},
   "source": [
    "# Step-by-step approach to applying PCA"
   ]
  },
  {
   "cell_type": "code",
   "execution_count": 5,
   "metadata": {},
   "outputs": [],
   "source": [
    "# Zero-center the data\n",
    "mu_F = np.mean(x_NF, axis=0)\n",
    "xc_NF = x_NF - mu_F[np.newaxis,:]\n"
   ]
  },
  {
   "cell_type": "code",
   "execution_count": 6,
   "metadata": {},
   "outputs": [],
   "source": [
    "# Compute covariance matrix\n",
    "cov_FF = np.dot(xc_NF.T, xc_NF) / N\n",
    "cov2_FF = np.cov(x_NF.T, bias=1)\n",
    "assert np.allclose(cov_FF, cov2_FF)"
   ]
  },
  {
   "cell_type": "code",
   "execution_count": 7,
   "metadata": {},
   "outputs": [
    {
     "name": "stdout",
     "output_type": "stream",
     "text": [
      "shape of eig_vals_F: 2\n",
      "shape of v_FF: (2, 2)\n"
     ]
    }
   ],
   "source": [
    "# Find eigenvalues/vectors\n",
    "eig_vals_F, v_FF = np.linalg.eig(cov_FF)\n",
    "print(\"shape of eig_vals_F: %s\" % eig_vals_F.shape)\n",
    "print(\"shape of v_FF: %s\" % str(v_FF.shape))\n"
   ]
  },
  {
   "cell_type": "code",
   "execution_count": 8,
   "metadata": {},
   "outputs": [],
   "source": [
    "# Select top K eigenvectors\n",
    "K = 1"
   ]
  },
  {
   "cell_type": "code",
   "execution_count": 9,
   "metadata": {},
   "outputs": [],
   "source": [
    "sort_ids_F = np.argsort(eig_vals_F)[::-1] # sort eigenvalues largest to smallest\n",
    "sort_ids_K = sort_ids_F[:K]\n",
    "\n",
    "eig_vals_K = eig_vals_F[sort_ids_K]\n",
    "v_FK = v_FF[:, sort_ids_K]"
   ]
  },
  {
   "cell_type": "code",
   "execution_count": 10,
   "metadata": {},
   "outputs": [
    {
     "data": {
      "text/plain": [
       "array([0.38496733])"
      ]
     },
     "execution_count": 10,
     "metadata": {},
     "output_type": "execute_result"
    }
   ],
   "source": [
    "eig_vals_K"
   ]
  },
  {
   "cell_type": "code",
   "execution_count": 11,
   "metadata": {},
   "outputs": [
    {
     "data": {
      "text/plain": [
       "array([[-0.6527781 ],\n",
       "       [-0.75754917]])"
      ]
     },
     "execution_count": 11,
     "metadata": {},
     "output_type": "execute_result"
    }
   ],
   "source": [
    "v_FK"
   ]
  },
  {
   "cell_type": "markdown",
   "metadata": {},
   "source": [
    "# Show the first eigen vector along with data"
   ]
  },
  {
   "cell_type": "code",
   "execution_count": 12,
   "metadata": {},
   "outputs": [
    {
     "data": {
      "image/png": "[encoded data removed]",
      "text/plain": [
       "<Figure size 432x288 with 1 Axes>"
      ]
     },
     "metadata": {
      "needs_background": "light"
     },
     "output_type": "display_data"
    }
   ],
   "source": [
    "plt.plot(x_NF[:,0], x_NF[:,1], 'k.');\n",
    "plt.plot([0,v_FK[0]], [0,v_FK[1]], 'rs-');"
   ]
  },
  {
   "cell_type": "code",
   "execution_count": null,
   "metadata": {},
   "outputs": [],
   "source": []
  },
  {
   "cell_type": "markdown",
   "metadata": {},
   "source": [
    "# PCA: Each step wrapped in a function"
   ]
  },
  {
   "cell_type": "code",
   "execution_count": 13,
   "metadata": {},
   "outputs": [],
   "source": [
    "def calculate_pca(x_NF, K=1):\n",
    "    mu_F = np.mean(x_NF, axis=0)\n",
    "\n",
    "    # Zero-center the data\n",
    "    xc_NF = x_NF - mu_F[np.newaxis,:]\n",
    "\n",
    "    # Compute covariance matrix\n",
    "    cov_FF = np.dot(xc_NF.T, xc_NF) / N\n",
    "\n",
    "    eig_vals_F, v_FF = np.linalg.eig(cov_FF) # Find eigenvalues/vectors: can be slow!\n",
    "    sort_ids_F = np.argsort(eig_vals_F)[::-1] # sort eigenvalues largest to smallest\n",
    "    sort_ids_K = sort_ids_F[:K]\n",
    "\n",
    "    eig_vals_K = eig_vals_F[sort_ids_K]\n",
    "    v_FK = v_FF[:, sort_ids_K]\n",
    "    return eig_vals_K, v_FK, mu_F"
   ]
  },
  {
   "cell_type": "markdown",
   "metadata": {},
   "source": [
    "# Project: From 2D to 1D"
   ]
  },
  {
   "cell_type": "code",
   "execution_count": 14,
   "metadata": {},
   "outputs": [],
   "source": [
    "def project(x_NF, mu_F, eig_vals_K, v_FK):\n",
    "    xc_NF = x_NF - mu_F[np.newaxis,:]\n",
    "    return np.dot(xc_NF, v_FK) * eig_vals_K[np.newaxis,:]\n"
   ]
  },
  {
   "cell_type": "markdown",
   "metadata": {},
   "source": [
    "# Reconstruct: From 1D to 2D"
   ]
  },
  {
   "cell_type": "code",
   "execution_count": 15,
   "metadata": {},
   "outputs": [],
   "source": [
    "def reconstruct(z_NK, mu_F, eig_vals_K, v_FK):\n",
    "    return mu_F[np.newaxis,:] + np.dot(z_NK, v_FK.T * 1.0/eig_vals_K[:,np.newaxis])"
   ]
  },
  {
   "cell_type": "markdown",
   "metadata": {},
   "source": [
    "# Show example with non-centered data"
   ]
  },
  {
   "cell_type": "code",
   "execution_count": 16,
   "metadata": {},
   "outputs": [],
   "source": [
    "x1 = -2.0 + np.random.randn(100)\n",
    "x2 = 3.0 * x1 + 0.5 * np.random.randn(100)\n",
    "x_NF = np.hstack([x1[:,np.newaxis], x2[:,np.newaxis]])"
   ]
  },
  {
   "cell_type": "code",
   "execution_count": 17,
   "metadata": {},
   "outputs": [],
   "source": [
    "eig_vals_K, v_FK, mu_F = calculate_pca(x_NF)"
   ]
  },
  {
   "cell_type": "code",
   "execution_count": 18,
   "metadata": {},
   "outputs": [],
   "source": [
    "z_NK = project(x_NF, mu_F, eig_vals_K, v_FK)"
   ]
  },
  {
   "cell_type": "code",
   "execution_count": 19,
   "metadata": {},
   "outputs": [],
   "source": [
    "x2_NF = reconstruct(z_NK, mu_F, eig_vals_K, v_FK)"
   ]
  },
  {
   "cell_type": "code",
   "execution_count": 20,
   "metadata": {},
   "outputs": [
    {
     "data": {
      "text/plain": [
       "<matplotlib.legend.Legend at 0x1a20e4ff60>"
      ]
     },
     "execution_count": 20,
     "metadata": {},
     "output_type": "execute_result"
    },
    {
     "data": {
      "image/png": "[encoded data removed]",
      "text/plain": [
       "<Figure size 432x288 with 1 Axes>"
      ]
     },
     "metadata": {
      "needs_background": "light"
     },
     "output_type": "display_data"
    }
   ],
   "source": [
    "plt.plot(x_NF[:,0], x_NF[:,1], 'b.', label='original')\n",
    "plt.plot(x2_NF[:,0], x2_NF[:,1], 'k.', label='reconstructed')\n",
    "plt.legend()"
   ]
  },
  {
   "cell_type": "code",
   "execution_count": null,
   "metadata": {},
   "outputs": [],
   "source": []
  },
  {
   "cell_type": "code",
   "execution_count": null,
   "metadata": {},
   "outputs": [],
   "source": []
  },
  {
   "cell_type": "code",
   "execution_count": null,
   "metadata": {},
   "outputs": [],
   "source": []
  },
  {
   "cell_type": "markdown",
   "metadata": {},
   "source": [
    "# 6.7.1 Principal Components Regression"
   ]
  },
  {
   "cell_type": "code",
   "execution_count": 21,
   "metadata": {},
   "outputs": [
    {
     "name": "stderr",
     "output_type": "stream",
     "text": [
      "/Users/mhughes/anaconda2/envs/comp135_env/lib/python3.6/site-packages/sklearn/cross_validation.py:41: DeprecationWarning: This module was deprecated in version 0.18 in favor of the model_selection module into which all the refactored classes and functions are moved. Also note that the interface of the new CV iterators are different from that of this module. This module will be removed in 0.20.\n",
      "  \"This module will be removed in 0.20.\", DeprecationWarning)\n"
     ]
    }
   ],
   "source": [
    "from sklearn.preprocessing import scale \n",
    "from sklearn.cross_validation import KFold, cross_val_score\n",
    "from sklearn.model_selection import train_test_split\n",
    "from sklearn.decomposition import PCA\n",
    "from sklearn.linear_model import LinearRegression\n",
    "from sklearn.cross_decomposition import PLSRegression, PLSSVD\n",
    "from sklearn.metrics import mean_squared_error"
   ]
  },
  {
   "cell_type": "code",
   "execution_count": 22,
   "metadata": {
    "scrolled": false
   },
   "outputs": [
    {
     "ename": "NameError",
     "evalue": "name 'X' is not defined",
     "output_type": "error",
     "traceback": [
      "\u001b[0;31m---------------------------------------------------------------------------\u001b[0m",
      "\u001b[0;31mNameError\u001b[0m                                 Traceback (most recent call last)",
      "\u001b[0;32m<ipython-input-22-059de82fa242>\u001b[0m in \u001b[0;36m<module>\u001b[0;34m\u001b[0m\n\u001b[1;32m      1\u001b[0m \u001b[0mpca\u001b[0m \u001b[0;34m=\u001b[0m \u001b[0mPCA\u001b[0m\u001b[0;34m(\u001b[0m\u001b[0;34m)\u001b[0m\u001b[0;34m\u001b[0m\u001b[0;34m\u001b[0m\u001b[0m\n\u001b[0;32m----> 2\u001b[0;31m \u001b[0mX_pca\u001b[0m \u001b[0;34m=\u001b[0m \u001b[0mpca\u001b[0m\u001b[0;34m.\u001b[0m\u001b[0mfit_transform\u001b[0m\u001b[0;34m(\u001b[0m\u001b[0mscale\u001b[0m\u001b[0;34m(\u001b[0m\u001b[0mX\u001b[0m\u001b[0;34m)\u001b[0m\u001b[0;34m)\u001b[0m\u001b[0;34m\u001b[0m\u001b[0;34m\u001b[0m\u001b[0m\n\u001b[0m\u001b[1;32m      3\u001b[0m \u001b[0mpd\u001b[0m\u001b[0;34m.\u001b[0m\u001b[0mDataFrame\u001b[0m\u001b[0;34m(\u001b[0m\u001b[0mX_pca\u001b[0m\u001b[0;34m)\u001b[0m\u001b[0;34m\u001b[0m\u001b[0;34m\u001b[0m\u001b[0m\n",
      "\u001b[0;31mNameError\u001b[0m: name 'X' is not defined"
     ]
    }
   ],
   "source": [
    "pca = PCA()\n",
    "X_pca = pca.fit_transform(scale(X))\n",
    "pd.DataFrame(X_pca)"
   ]
  },
  {
   "cell_type": "code",
   "execution_count": null,
   "metadata": {},
   "outputs": [],
   "source": [
    "# 10-fold CV, with shuffle\n",
    "n = len(X_pca)\n",
    "k10 = KFold(n, n_folds=10, shuffle=True, random_state=42)\n",
    "\n",
    "lin_reg = LinearRegression()\n",
    "rmse = []\n",
    "\n",
    "# MSE with only the intercept\n",
    "score = -1 * cross_val_score(lin_reg, np.ones((n,1)), y, cv=k10, scoring='neg_mean_squared_error').mean()\n",
    "rmse.append(np.sqrt(score))\n",
    "\n",
    "# MSE for the 19 principle components\n",
    "for i in np.arange(1, 20):\n",
    "    score = -1 * cross_val_score(lin_reg, X_pca[:,:i], y, cv=k10, scoring='neg_mean_squared_error').mean()\n",
    "    rmse.append(np.sqrt(score))\n",
    "    \n",
    "min_rmse = np.array(rmse).argmin()\n",
    "    \n",
    "plt.plot(rmse, '-D')\n",
    "plt.plot(rmse, markevery=[min_rmse], marker='X', lw=0, color='red')\n",
    "plt.xlabel('# of PC')\n",
    "plt.ylabel('RMSE');"
   ]
  },
  {
   "cell_type": "code",
   "execution_count": null,
   "metadata": {},
   "outputs": [],
   "source": [
    "np.cumsum(pca.explained_variance_ratio_*100)"
   ]
  },
  {
   "cell_type": "code",
   "execution_count": null,
   "metadata": {},
   "outputs": [],
   "source": [
    "# validation set\n",
    "X_train, X_test, y_train, y_test = train_test_split(X, y, test_size=0.5, random_state=1)\n",
    "\n",
    "pca2 = PCA()\n",
    "X_train_pca2 = pca2.fit_transform(scale(X_train))\n",
    "\n",
    "# 10-fold CV, with shuffle\n",
    "n = len(X_train_pca2)\n",
    "k102 = KFold(n, n_folds=10, shuffle=True, random_state=1)\n",
    "\n",
    "lin_reg2 = LinearRegression()\n",
    "rmse2 = []\n",
    "\n",
    "# MSE with only the intercept\n",
    "score = -1 * cross_val_score(lin_reg2, np.ones((n,1)), y_train, cv=k102, scoring='neg_mean_squared_error').mean()\n",
    "rmse2.append(np.sqrt(score))\n",
    "\n",
    "# MSE for the 19 principle components\n",
    "for i in np.arange(1, 20):\n",
    "    score = -1 * cross_val_score(lin_reg2, X_train_pca2[:,:i], y_train, cv=k102, scoring='neg_mean_squared_error').mean()\n",
    "    rmse2.append(np.sqrt(score))\n",
    "\n",
    "min_rmse = np.array(rmse2).argmin()\n",
    "    \n",
    "plt.plot(rmse2, '-D')\n",
    "plt.plot(rmse2, markevery=[min_rmse], marker='X', lw=0, color='red')\n",
    "plt.xlabel('# of PC')\n",
    "plt.ylabel('RMSE')\n",
    "plt.xticks([0, 5, 10, 15, 20]);"
   ]
  },
  {
   "cell_type": "code",
   "execution_count": null,
   "metadata": {},
   "outputs": [],
   "source": [
    "X_train_pca3 = pca2.fit_transform(scale(X_train))[:, :7]\n",
    "X_test_pca3 = pca2.fit_transform(scale(X_test))[:, :7]\n",
    "\n",
    "lin_reg3 = LinearRegression()\n",
    "lin_reg3.fit(X_train_pca3, y_train)\n",
    "pred_pca3 = lin_reg3.predict(X_test_pca3)\n",
    "\n",
    "mean_squared_error(y_test, pred_pca3)"
   ]
  },
  {
   "cell_type": "code",
   "execution_count": null,
   "metadata": {},
   "outputs": [],
   "source": [
    "pls = PLSRegression(n_components=2)\n",
    "pls.fit(scale(X_train), y_train)\n",
    "\n",
    "mean_squared_error(y_test, pls.predict(scale(X_test)))"
   ]
  }
 ],
 "metadata": {
  "kernelspec": {
   "display_name": "Python 3",
   "language": "python",
   "name": "python3"
  },
  "language_info": {
   "codemirror_mode": {
    "name": "ipython",
    "version": 3
   },
   "file_extension": ".py",
   "mimetype": "text/x-python",
   "name": "python",
   "nbconvert_exporter": "python",
   "pygments_lexer": "ipython3",
   "version": "3.6.8"
  }
 },
 "nbformat": 4,
 "nbformat_minor": 2
}
