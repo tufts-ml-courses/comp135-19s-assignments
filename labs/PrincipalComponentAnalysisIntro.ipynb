{
 "cells": [
  {
   "cell_type": "markdown",
   "metadata": {},
   "source": [
    "# Introduction to PCA"
   ]
  },
  {
   "cell_type": "markdown",
   "metadata": {},
   "source": [
    "Part 1: PCA in pure NumPy\n",
    "\n",
    "Part 2: sklearn's version of PCA"
   ]
  },
  {
   "cell_type": "markdown",
   "metadata": {},
   "source": [
    "## Setup"
   ]
  },
  {
   "cell_type": "code",
   "execution_count": 1,
   "metadata": {},
   "outputs": [],
   "source": [
    "# imports and setup\n",
    "%matplotlib inline\n",
    "\n",
    "import numpy as np\n",
    "import pandas as pd\n",
    "import matplotlib.pyplot as plt\n",
    "\n",
    "pd.set_option('precision', 4) # number precision for pandas\n",
    "pd.set_option('display.max_rows', 20)\n",
    "pd.set_option('display.max_columns', 12)\n",
    "pd.set_option('display.float_format', '{:20,.5f}'.format) # get rid of scientific notation\n",
    "\n",
    "import seaborn as sns\n",
    "plt.style.use('seaborn') # pretty matplotlib plots\n",
    "\n",
    "sns.set(style='whitegrid', context='notebook', font_scale=np.sqrt(2))"
   ]
  },
  {
   "cell_type": "code",
   "execution_count": 2,
   "metadata": {},
   "outputs": [],
   "source": [
    "def new_fig_with_equal_aspect_ratio():\n",
    "    ax = plt.gca()\n",
    "    ax.set_aspect('equal');\n",
    "    return ax"
   ]
  },
  {
   "cell_type": "code",
   "execution_count": 3,
   "metadata": {},
   "outputs": [],
   "source": [
    "def set_equal_limits(ax, min_val=-2.0, max_val=2.0):\n",
    "    ax.set_xlim([min_val, max_val]); \n",
    "    ax.set_ylim([min_val, max_val]);\n",
    "    ax.set_xlabel('x1');\n",
    "    ax.set_ylabel('x2');\n",
    "    ticks = ax.get_xticks();\n",
    "    labels = ax.get_xticklabels();\n",
    "    ax.set_xticks(ticks); ax.set_yticks(ticks);\n",
    "    ax.set_xticklabels(ticks);\n",
    "    ax.set_yticklabels(ticks);"
   ]
  },
  {
   "cell_type": "markdown",
   "metadata": {},
   "source": [
    "# PART 1: PCA in Pure Numpy"
   ]
  },
  {
   "cell_type": "markdown",
   "metadata": {},
   "source": [
    "### Create simple toy dataset in 2D"
   ]
  },
  {
   "cell_type": "code",
   "execution_count": 4,
   "metadata": {},
   "outputs": [],
   "source": [
    "x = np.random.randn(100)\n",
    "y = 1.0 * x + 0.2 * np.random.randn(100)"
   ]
  },
  {
   "cell_type": "code",
   "execution_count": 5,
   "metadata": {},
   "outputs": [
    {
     "data": {
      "image/png": "[encoded data removed]",
      "text/plain": [
       "<Figure size 432x288 with 1 Axes>"
      ]
     },
     "metadata": {
      "needs_background": "light"
     },
     "output_type": "display_data"
    }
   ],
   "source": [
    "ax = new_fig_with_equal_aspect_ratio()\n",
    "ax.plot(x, y, 'ks', ms=5);\n",
    "set_equal_limits(ax, -3, +3);"
   ]
  },
  {
   "cell_type": "markdown",
   "metadata": {},
   "source": [
    "## Summarize toy dataset"
   ]
  },
  {
   "cell_type": "code",
   "execution_count": 6,
   "metadata": {},
   "outputs": [
    {
     "name": "stdout",
     "output_type": "stream",
     "text": [
      "(100, 2)\n"
     ]
    }
   ],
   "source": [
    "x_NF = np.hstack([x[:,np.newaxis], y[:,np.newaxis]])\n",
    "N = x_NF.shape[0]\n",
    "\n",
    "print(x_NF.shape)"
   ]
  },
  {
   "cell_type": "markdown",
   "metadata": {},
   "source": [
    "# Step-by-step approach to applying PCA"
   ]
  },
  {
   "cell_type": "code",
   "execution_count": 7,
   "metadata": {},
   "outputs": [],
   "source": [
    "# Zero-center the data\n",
    "mu_F = np.mean(x_NF, axis=0)\n",
    "xc_NF = x_NF - mu_F[np.newaxis,:]"
   ]
  },
  {
   "cell_type": "code",
   "execution_count": 8,
   "metadata": {},
   "outputs": [],
   "source": [
    "# Compute covariance matrix\n",
    "cov_FF = np.dot(xc_NF.T, xc_NF) / N\n",
    "cov2_FF = np.cov(x_NF.T, bias=1)\n",
    "assert np.allclose(cov_FF, cov2_FF)"
   ]
  },
  {
   "cell_type": "code",
   "execution_count": 9,
   "metadata": {},
   "outputs": [
    {
     "name": "stdout",
     "output_type": "stream",
     "text": [
      "shape of eig_vals_F: 2\n",
      "shape of v_FF: (2, 2)\n"
     ]
    }
   ],
   "source": [
    "# Find eigenvalues/vectors\n",
    "eig_vals_F, v_FF = np.linalg.eig(cov_FF)\n",
    "print(\"shape of eig_vals_F: %s\" % eig_vals_F.shape)\n",
    "print(\"shape of v_FF: %s\" % str(v_FF.shape))\n"
   ]
  },
  {
   "cell_type": "code",
   "execution_count": 10,
   "metadata": {},
   "outputs": [],
   "source": [
    "# Select top K eigenvectors\n",
    "K = 1"
   ]
  },
  {
   "cell_type": "code",
   "execution_count": 11,
   "metadata": {},
   "outputs": [],
   "source": [
    "sort_ids_F = np.argsort(eig_vals_F)[::-1] # sort eigenvalues largest to smallest\n",
    "sort_ids_K = sort_ids_F[:K]\n",
    "\n",
    "eig_vals_K = eig_vals_F[sort_ids_K]\n",
    "v_FK = v_FF[:, sort_ids_K]"
   ]
  },
  {
   "cell_type": "code",
   "execution_count": 12,
   "metadata": {},
   "outputs": [
    {
     "data": {
      "text/plain": [
       "array([2.26522862])"
      ]
     },
     "execution_count": 12,
     "metadata": {},
     "output_type": "execute_result"
    }
   ],
   "source": [
    "eig_vals_K"
   ]
  },
  {
   "cell_type": "code",
   "execution_count": 13,
   "metadata": {},
   "outputs": [
    {
     "name": "stdout",
     "output_type": "stream",
     "text": [
      "First principal component:\n",
      "[[-0.70160111]\n",
      " [-0.71256991]]\n",
      "Double check: is this a unit vector?\n",
      "L2 norm: 1.000\n"
     ]
    }
   ],
   "source": [
    "print(\"First principal component:\")\n",
    "print(v_FK)\n",
    "\n",
    "print(\"Double check: is this a unit vector?\")\n",
    "print(\"L2 norm: %.3f\" % np.sqrt(np.sum(np.square(v_FK), axis=0)))"
   ]
  },
  {
   "cell_type": "markdown",
   "metadata": {},
   "source": [
    "# Show the first eigen vector along with data"
   ]
  },
  {
   "cell_type": "code",
   "execution_count": 14,
   "metadata": {},
   "outputs": [
    {
     "data": {
      "image/png": "[encoded data removed]",
      "text/plain": [
       "<Figure size 432x288 with 1 Axes>"
      ]
     },
     "metadata": {
      "needs_background": "light"
     },
     "output_type": "display_data"
    }
   ],
   "source": [
    "ax = new_fig_with_equal_aspect_ratio()\n",
    "ax.plot(x_NF[:,0], x_NF[:,1], 'ks', ms=5);\n",
    "ax.plot([0,v_FK[0]], [0,v_FK[1]], 'rs-', label='1st PC vec');\n",
    "set_equal_limits(ax, -3, +3);\n",
    "ax.legend();"
   ]
  },
  {
   "cell_type": "code",
   "execution_count": null,
   "metadata": {},
   "outputs": [],
   "source": []
  },
  {
   "cell_type": "markdown",
   "metadata": {},
   "source": [
    "# PCA: Each step wrapped in a function"
   ]
  },
  {
   "cell_type": "code",
   "execution_count": 15,
   "metadata": {},
   "outputs": [],
   "source": [
    "def calculate_pca(x_NF, K=1):\n",
    "    mu_F = np.mean(x_NF, axis=0)\n",
    "\n",
    "    # Zero-center the data\n",
    "    xc_NF = x_NF - mu_F[np.newaxis,:]\n",
    "\n",
    "    # Compute covariance matrix of centered data\n",
    "    cov_FF = np.dot(xc_NF.T, xc_NF) / N\n",
    "\n",
    "    eig_vals_F, v_FF = np.linalg.eig(cov_FF) # Find eigenvalues/vectors: can be slow!\n",
    "    sort_ids_F = np.argsort(eig_vals_F)[::-1] # sort eigenvalues largest to smallest\n",
    "    sort_ids_K = sort_ids_F[:K]\n",
    "\n",
    "    eig_vals_K = eig_vals_F[sort_ids_K]\n",
    "    v_FK = v_FF[:, sort_ids_K]\n",
    "    return eig_vals_K, v_FK, mu_F"
   ]
  },
  {
   "cell_type": "markdown",
   "metadata": {},
   "source": [
    "# Project: From 2D to 1D"
   ]
  },
  {
   "cell_type": "code",
   "execution_count": 16,
   "metadata": {},
   "outputs": [],
   "source": [
    "def project(x_NF, mu_F, eig_vals_K, v_FK):\n",
    "    xc_NF = x_NF - mu_F[np.newaxis,:]\n",
    "    return np.dot(xc_NF, v_FK) * 1.0 / np.sqrt(eig_vals_K)[np.newaxis,:]\n"
   ]
  },
  {
   "cell_type": "markdown",
   "metadata": {},
   "source": [
    "# Reconstruct: From 1D to 2D"
   ]
  },
  {
   "cell_type": "code",
   "execution_count": 17,
   "metadata": {},
   "outputs": [],
   "source": [
    "def reconstruct(z_NK, mu_F, eig_vals_K, v_FK):\n",
    "    return mu_F[np.newaxis,:] + np.dot(z_NK, np.sqrt(eig_vals_K)[:,np.newaxis] * v_FK.T)"
   ]
  },
  {
   "cell_type": "markdown",
   "metadata": {},
   "source": [
    "# Show reconstructions with non-centered 2D toy data"
   ]
  },
  {
   "cell_type": "code",
   "execution_count": 18,
   "metadata": {},
   "outputs": [],
   "source": [
    "random_state = np.random.RandomState(0)\n",
    "x1 = -2.0 + random_state.randn(100)\n",
    "x2 = 1.0 * x1 + 0.5 * random_state.randn(100)\n",
    "x_NF = np.hstack([x1[:,np.newaxis], x2[:,np.newaxis]])"
   ]
  },
  {
   "cell_type": "code",
   "execution_count": 19,
   "metadata": {},
   "outputs": [],
   "source": [
    "eig_vals_K, v_FK, mu_F = calculate_pca(x_NF, 1)"
   ]
  },
  {
   "cell_type": "code",
   "execution_count": 20,
   "metadata": {},
   "outputs": [],
   "source": [
    "z_NK = project(x_NF, mu_F, eig_vals_K, v_FK)"
   ]
  },
  {
   "cell_type": "code",
   "execution_count": 21,
   "metadata": {},
   "outputs": [
    {
     "name": "stdout",
     "output_type": "stream",
     "text": [
      "mean of z: -0.000\n",
      "var  of z:  1.000\n"
     ]
    }
   ],
   "source": [
    "print(\"mean of z: % .3f\" % (np.mean(z_NK)))\n",
    "print(\"var  of z: % .3f\" % (np.var(z_NK)))"
   ]
  },
  {
   "cell_type": "code",
   "execution_count": 22,
   "metadata": {},
   "outputs": [],
   "source": [
    "x2_NF = reconstruct(z_NK, mu_F, eig_vals_K, v_FK)"
   ]
  },
  {
   "cell_type": "code",
   "execution_count": 23,
   "metadata": {},
   "outputs": [
    {
     "data": {
      "image/png": "[encoded data removed]",
      "text/plain": [
       "<Figure size 432x288 with 1 Axes>"
      ]
     },
     "metadata": {
      "needs_background": "light"
     },
     "output_type": "display_data"
    }
   ],
   "source": [
    "ax = new_fig_with_equal_aspect_ratio()\n",
    "ax.plot(x2_NF[:,0], x2_NF[:,1], 'k.', label='reconstructed')\n",
    "ax.plot(x_NF[:,0], x_NF[:,1], 'bs', alpha=0.5, label='original')\n",
    "ax.legend(fontsize=14);\n",
    "set_equal_limits(ax, -5, 1)"
   ]
  },
  {
   "cell_type": "markdown",
   "metadata": {},
   "source": [
    "# PART 2: Try on same dataset with sklearn"
   ]
  },
  {
   "cell_type": "code",
   "execution_count": 24,
   "metadata": {},
   "outputs": [],
   "source": [
    "from sklearn.decomposition import PCA\n",
    "\n",
    "pca1 = PCA(n_components=1)\n",
    "pca2 = PCA(n_components=2)"
   ]
  },
  {
   "cell_type": "code",
   "execution_count": 25,
   "metadata": {},
   "outputs": [],
   "source": [
    "pca1.fit(x_NF);\n",
    "pca2.fit(x_NF);"
   ]
  },
  {
   "cell_type": "markdown",
   "metadata": {},
   "source": [
    "### Show the eigenvalues ('explained_variances_') "
   ]
  },
  {
   "cell_type": "code",
   "execution_count": 26,
   "metadata": {},
   "outputs": [
    {
     "data": {
      "text/plain": [
       "array([2.32224512, 0.11795782])"
      ]
     },
     "execution_count": 26,
     "metadata": {},
     "output_type": "execute_result"
    }
   ],
   "source": [
    "pca2.explained_variance_"
   ]
  },
  {
   "cell_type": "code",
   "execution_count": 27,
   "metadata": {},
   "outputs": [
    {
     "data": {
      "text/plain": [
       "array([2.29902267])"
      ]
     },
     "execution_count": 27,
     "metadata": {},
     "output_type": "execute_result"
    }
   ],
   "source": [
    "eig_vals_K"
   ]
  },
  {
   "cell_type": "markdown",
   "metadata": {},
   "source": [
    "### Show the eigenvectors ('components_')"
   ]
  },
  {
   "cell_type": "code",
   "execution_count": 28,
   "metadata": {},
   "outputs": [
    {
     "data": {
      "text/plain": [
       "array([[-0.64185929, -0.76682243],\n",
       "       [-0.76682243,  0.64185929]])"
      ]
     },
     "execution_count": 28,
     "metadata": {},
     "output_type": "execute_result"
    }
   ],
   "source": [
    "pca2.components_"
   ]
  },
  {
   "cell_type": "code",
   "execution_count": 29,
   "metadata": {},
   "outputs": [
    {
     "data": {
      "text/plain": [
       "array([[-0.64185929, -0.76682243]])"
      ]
     },
     "execution_count": 29,
     "metadata": {},
     "output_type": "execute_result"
    }
   ],
   "source": [
    "v_FK.T"
   ]
  },
  {
   "cell_type": "markdown",
   "metadata": {},
   "source": [
    "# Reconstruction using 1 PC only"
   ]
  },
  {
   "cell_type": "code",
   "execution_count": 30,
   "metadata": {},
   "outputs": [
    {
     "data": {
      "image/png": "[encoded data removed]",
      "text/plain": [
       "<Figure size 432x288 with 1 Axes>"
      ]
     },
     "metadata": {
      "needs_background": "light"
     },
     "output_type": "display_data"
    }
   ],
   "source": [
    "x2_NF = pca1.inverse_transform(pca1.transform(x_NF))\n",
    "\n",
    "ax = new_fig_with_equal_aspect_ratio()\n",
    "ax.plot(x_NF[:,0], x_NF[:,1], 'bs', alpha=0.5, ms=5, label='original')\n",
    "ax.plot(x2_NF[:,0], x2_NF[:,1], 'k.', label='reconstructed')\n",
    "ax.legend();\n",
    "ax.set_title('reconstruction with 1 PC via sklearn\\n mean sq. error: %.3f' % (\n",
    "    np.mean(np.sum(np.square(x_NF - x2_NF)))))\n",
    "set_equal_limits(ax, -5, 1)"
   ]
  },
  {
   "cell_type": "markdown",
   "metadata": {},
   "source": [
    "# Reconstruction using 2 PCs"
   ]
  },
  {
   "cell_type": "code",
   "execution_count": 31,
   "metadata": {},
   "outputs": [
    {
     "data": {
      "image/png": "[encoded data removed]",
      "text/plain": [
       "<Figure size 432x288 with 1 Axes>"
      ]
     },
     "metadata": {
      "needs_background": "light"
     },
     "output_type": "display_data"
    }
   ],
   "source": [
    "x2_NF = pca2.inverse_transform(pca2.transform(x_NF))\n",
    "\n",
    "ax = new_fig_with_equal_aspect_ratio()\n",
    "ax.plot(x_NF[:,0], x_NF[:,1], 'bs', alpha=0.5, ms=5, label='original')\n",
    "ax.plot(x2_NF[:,0], x2_NF[:,1], 'k.', label='reconstructed')\n",
    "ax.legend();\n",
    "ax.set_title('reconstruction with 2 PC via sklearn\\n mean sq error: %.3f' % (\n",
    "    np.mean(np.sum(np.square(x_NF - x2_NF)))))\n",
    "set_equal_limits(ax, -5, 1)"
   ]
  },
  {
   "cell_type": "markdown",
   "metadata": {},
   "source": [
    "## Properties of the default sklearn embedding features?\n",
    "\n",
    "Looks like the sklearn default doesn't transform the z-space features to have unit variance"
   ]
  },
  {
   "cell_type": "code",
   "execution_count": 32,
   "metadata": {},
   "outputs": [],
   "source": [
    "z_sklearn_NK = pca2.transform(x_NF)"
   ]
  },
  {
   "cell_type": "code",
   "execution_count": 33,
   "metadata": {
    "scrolled": true
   },
   "outputs": [
    {
     "data": {
      "text/plain": [
       "array([2.29902267, 0.11677824])"
      ]
     },
     "execution_count": 33,
     "metadata": {},
     "output_type": "execute_result"
    }
   ],
   "source": [
    "np.var(z_sklearn_NK, axis=0)"
   ]
  },
  {
   "cell_type": "code",
   "execution_count": 34,
   "metadata": {},
   "outputs": [
    {
     "data": {
      "text/plain": [
       "array([2.32224512, 0.11795782])"
      ]
     },
     "execution_count": 34,
     "metadata": {},
     "output_type": "execute_result"
    }
   ],
   "source": [
    "pca2.explained_variance_"
   ]
  },
  {
   "cell_type": "code",
   "execution_count": 35,
   "metadata": {},
   "outputs": [
    {
     "data": {
      "text/plain": [
       "array([2.29902267, 0.11677824])"
      ]
     },
     "execution_count": 35,
     "metadata": {},
     "output_type": "execute_result"
    }
   ],
   "source": [
    "pca2.explained_variance_ * (N-1) / N"
   ]
  },
  {
   "cell_type": "code",
   "execution_count": null,
   "metadata": {},
   "outputs": [],
   "source": []
  },
  {
   "cell_type": "code",
   "execution_count": null,
   "metadata": {},
   "outputs": [],
   "source": []
  }
 ],
 "metadata": {
  "kernelspec": {
   "display_name": "Python 3",
   "language": "python",
   "name": "python3"
  },
  "language_info": {
   "codemirror_mode": {
    "name": "ipython",
    "version": 3
   },
   "file_extension": ".py",
   "mimetype": "text/x-python",
   "name": "python",
   "nbconvert_exporter": "python",
   "pygments_lexer": "ipython3",
   "version": "3.6.8"
  }
 },
 "nbformat": 4,
 "nbformat_minor": 2
}
